{
 "cells": [
  {
   "cell_type": "code",
   "execution_count": null,
   "id": "ac727e8d-b017-417b-9ca7-e6aa513b2dab",
   "metadata": {
    "tags": []
   },
   "outputs": [],
   "source": [
    "import pandas as pd\n",
    "df = pd.read_csv(\"311_Service_Requests_2020.csv\")"
   ]
  },
  {
   "cell_type": "code",
   "execution_count": null,
   "id": "b6d7c65d-57ed-48f7-9dbc-6fae2ab0968e",
   "metadata": {
    "tags": []
   },
   "outputs": [],
   "source": [
    "total_incident_zip = df.loc[df[\"Incident Zip\"] == 10005.0][\"Unique Key\"].count()\n",
    "parking_incident_zip = df.loc[(df[\"Incident Zip\"]== 10005.0) & (df[\"Complaint Type\"] == \"Illegal Parking\")][\"Unique Key\"].count()\n",
    "total_incident_all = df[\"Unique Key\"].count()\n",
    "parking_incident_all = df.loc[df[\"Complaint Type\"] == \"Illegal Parking\"][\"Unique Key\"].count()"
   ]
  },
  {
   "cell_type": "code",
   "execution_count": null,
   "id": "8023335f-2f6c-4aeb-bd1f-0208ca60b6f1",
   "metadata": {
    "tags": []
   },
   "outputs": [],
   "source": [
    "zip_rate = parking_incident_zip / total_incident_zip\n",
    "all_rate = parking_incident_all / total_incident_all\n",
    "higher_parking_proportion = zip_rate > all_rate"
   ]
  },
  {
   "cell_type": "code",
   "execution_count": null,
   "id": "3642272c-7f40-423c-8ade-29f5d341adca",
   "metadata": {
    "tags": []
   },
   "outputs": [],
   "source": []
  }
 ],
 "metadata": {
  "kernelspec": {
   "display_name": "Python 3",
   "language": "python",
   "name": "python3"
  },
  "language_info": {
   "codemirror_mode": {
    "name": "ipython",
    "version": 3
   },
   "file_extension": ".py",
   "mimetype": "text/x-python",
   "name": "python",
   "nbconvert_exporter": "python",
   "pygments_lexer": "ipython3",
   "version": "3.8.8"
  }
 },
 "nbformat": 4,
 "nbformat_minor": 5
}
