{
 "cells": [
  {
   "cell_type": "code",
   "execution_count": 2,
   "id": "3739fdce-e580-40f1-b04c-dd27ca687104",
   "metadata": {},
   "outputs": [],
   "source": [
    "import pandas as pd\n",
    "import numpy as np"
   ]
  },
  {
   "cell_type": "code",
   "execution_count": 54,
   "id": "88457697-30ea-431c-a941-43df1b3d1ea9",
   "metadata": {},
   "outputs": [],
   "source": [
    "df = pd.read_csv(\"311_Service_Requests_2020.csv\")\n",
    "df = df.loc[df[\"Incident Zip\"] == 10005.0]"
   ]
  },
  {
   "cell_type": "code",
   "execution_count": 53,
   "id": "ce046dac-18af-4e59-a2af-7e58361b4606",
   "metadata": {},
   "outputs": [],
   "source": [
    "top10 = pd.Series([df.loc[df['Complaint Type'] == i]['Unique Key'].count() for i in df['Complaint Type'].unique()], index = df['Complaint Type'].unique()).sort_values(ascending = False).head(10)"
   ]
  }
 ],
 "metadata": {
  "kernelspec": {
   "display_name": "Python 3",
   "language": "python",
   "name": "python3"
  },
  "language_info": {
   "codemirror_mode": {
    "name": "ipython",
    "version": 3
   },
   "file_extension": ".py",
   "mimetype": "text/x-python",
   "name": "python",
   "nbconvert_exporter": "python",
   "pygments_lexer": "ipython3",
   "version": "3.8.8"
  }
 },
 "nbformat": 4,
 "nbformat_minor": 5
}
